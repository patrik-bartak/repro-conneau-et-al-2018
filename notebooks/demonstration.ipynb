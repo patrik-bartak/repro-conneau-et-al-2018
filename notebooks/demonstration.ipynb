{
 "cells": [
  {
   "metadata": {
    "ExecuteTime": {
     "end_time": "2024-04-20T17:33:20.463116Z",
     "start_time": "2024-04-20T17:33:20.459849Z"
    }
   },
   "cell_type": "code",
   "source": [
    "import torch\n",
    "import os.path\n",
    "from spacy.lang.en import English\n",
    "import torch.nn.functional as F\n",
    "from src.models.nliclassifier import NLIClassifier\n",
    "from src.dataset.dataloaders import get_embeddings_for_data"
   ],
   "id": "b3b703e8d7cd040",
   "outputs": [],
   "execution_count": 73
  },
  {
   "cell_type": "code",
   "id": "initial_id",
   "metadata": {
    "collapsed": true,
    "ExecuteTime": {
     "end_time": "2024-04-20T17:33:26.558031Z",
     "start_time": "2024-04-20T17:33:20.464773Z"
    }
   },
   "source": [
    "# Make sure to enter the parent dir of the embedding vocab+vector file used for training\n",
    "emb_vocab, emb_vecs = get_embeddings_for_data(\n",
    "    dataset_path=os.path.join(\"..\", \"snel_data\", \"processed\")\n",
    ")"
   ],
   "outputs": [],
   "execution_count": 74
  },
  {
   "metadata": {
    "ExecuteTime": {
     "end_time": "2024-04-20T17:33:26.613603Z",
     "start_time": "2024-04-20T17:33:26.559012Z"
    }
   },
   "cell_type": "code",
   "source": [
    "# Load the model along with the embeddings\n",
    "model = (\n",
    "    NLIClassifier.load_from_checkpoint(\n",
    "        os.path.join(\n",
    "            \"..\",\n",
    "            \"checkpoint\",\n",
    "            \"checkpoint-snel\",\n",
    "            \"real_blstmpme_train\",\n",
    "            \"epoch=14-step=32190-val_acc=0.86.ckpt\",\n",
    "        ),\n",
    "        strict=False,\n",
    "        embedding_mat=emb_vecs,\n",
    "    )\n",
    "    .cpu()\n",
    "    .eval()\n",
    ")"
   ],
   "id": "b7f11ded35cbbfca",
   "outputs": [],
   "execution_count": 75
  },
  {
   "metadata": {
    "ExecuteTime": {
     "end_time": "2024-04-20T17:33:26.669381Z",
     "start_time": "2024-04-20T17:33:26.614738Z"
    }
   },
   "cell_type": "code",
   "source": [
    "tokenizer = English().tokenizer\n",
    "\n",
    "\n",
    "def process_input(sent_1, sent_2):\n",
    "    sent_tokens = [\n",
    "        [token.text for token in tokenizer(sent.lower())] for sent in [sent_1, sent_2]\n",
    "    ]\n",
    "    indices = [emb_vocab(sent_tok) for sent_tok in sent_tokens]\n",
    "    sents = [torch.tensor([idxs], dtype=torch.long) for idxs in indices]\n",
    "    lens = [torch.tensor([len(sent_token)], dtype=torch.int64) for sent_token in sent_tokens]\n",
    "    return [*sents, *lens]"
   ],
   "id": "8ac9279ade079438",
   "outputs": [],
   "execution_count": 76
  },
  {
   "metadata": {
    "ExecuteTime": {
     "end_time": "2024-04-20T17:33:42.333915Z",
     "start_time": "2024-04-20T17:33:42.329966Z"
    }
   },
   "cell_type": "code",
   "source": [
    "sent_1 = \"An apple and an orange on a table\"\n",
    "sent_2 = \"There are fruits present on the table\"\n",
    "raw_inputs = process_input(sent_1, sent_2)"
   ],
   "id": "a56f478cc4580582",
   "outputs": [],
   "execution_count": 88
  },
  {
   "metadata": {
    "ExecuteTime": {
     "end_time": "2024-04-20T17:33:42.786717Z",
     "start_time": "2024-04-20T17:33:42.783397Z"
    }
   },
   "cell_type": "code",
   "source": "raw_inputs",
   "id": "39234456611dcdf8",
   "outputs": [
    {
     "data": {
      "text/plain": [
       "[tensor([[ 1321,  1582,  1351,  1321, 20418, 20303,   419, 29776]]),\n",
       " tensor([[30381,  1713, 12123, 22922, 20303, 30330, 29776]]),\n",
       " tensor([8]),\n",
       " tensor([7])]"
      ]
     },
     "execution_count": 89,
     "metadata": {},
     "output_type": "execute_result"
    }
   ],
   "execution_count": 89
  },
  {
   "metadata": {
    "ExecuteTime": {
     "end_time": "2024-04-20T17:33:43.058907Z",
     "start_time": "2024-04-20T17:33:43.056251Z"
    }
   },
   "cell_type": "code",
   "source": [
    "label_map = {\n",
    "    0: \"entailment\",\n",
    "    1: \"neutral\",\n",
    "    2: \"contradiction\",\n",
    "}"
   ],
   "id": "6555a2d84b711401",
   "outputs": [],
   "execution_count": 90
  },
  {
   "metadata": {
    "ExecuteTime": {
     "end_time": "2024-04-20T17:33:44.176263Z",
     "start_time": "2024-04-20T17:33:44.154244Z"
    }
   },
   "cell_type": "code",
   "source": [
    "out = model(*raw_inputs)\n",
    "probs = F.softmax(out, dim=-1)\n",
    "label = torch.argmax(probs, dim=1).unsqueeze(0).detach().item()"
   ],
   "id": "97306071d190d17b",
   "outputs": [],
   "execution_count": 91
  },
  {
   "metadata": {
    "ExecuteTime": {
     "end_time": "2024-04-20T17:33:44.467496Z",
     "start_time": "2024-04-20T17:33:44.465061Z"
    }
   },
   "cell_type": "code",
   "source": [
    "print(\n",
    "    f\"\"\"\n",
    "Premise: \"{sent_1}\"\n",
    "Hypothesis: \"{sent_2}\"\n",
    "Model judgement: \"{label_map[label]}\"\n",
    "\"\"\"\n",
    ")"
   ],
   "id": "94e27f99cf8796ba",
   "outputs": [
    {
     "name": "stdout",
     "output_type": "stream",
     "text": [
      "\n",
      "Premise: \"An apple and an orange on a table\"\n",
      "Hypothesis: \"There are fruits present on the table\"\n",
      "Model judgement: \"entailment\"\n",
      "\n"
     ]
    }
   ],
   "execution_count": 92
  },
  {
   "metadata": {
    "ExecuteTime": {
     "end_time": "2024-04-20T17:33:26.704614Z",
     "start_time": "2024-04-20T17:33:26.703043Z"
    }
   },
   "cell_type": "code",
   "source": "# TO NOT FORGET TO REPLACE THE EMBEDDINGS WITH THOSE USED TO TRAIN THE MODELS ON SNELLIUS",
   "id": "f3b51a02117821aa",
   "outputs": [],
   "execution_count": 82
  }
 ],
 "metadata": {
  "kernelspec": {
   "display_name": "Python 3",
   "language": "python",
   "name": "python3"
  },
  "language_info": {
   "codemirror_mode": {
    "name": "ipython",
    "version": 2
   },
   "file_extension": ".py",
   "mimetype": "text/x-python",
   "name": "python",
   "nbconvert_exporter": "python",
   "pygments_lexer": "ipython2",
   "version": "2.7.6"
  }
 },
 "nbformat": 4,
 "nbformat_minor": 5
}
