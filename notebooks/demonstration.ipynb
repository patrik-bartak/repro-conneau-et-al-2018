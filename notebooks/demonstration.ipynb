{
 "cells": [
  {
   "metadata": {
    "ExecuteTime": {
     "end_time": "2024-04-21T19:36:47.973289Z",
     "start_time": "2024-04-21T19:36:47.946514Z"
    }
   },
   "cell_type": "code",
   "source": [
    "%load_ext autoreload\n",
    "%autoreload 2"
   ],
   "id": "32ed8fb5be6adbd8",
   "outputs": [
    {
     "name": "stdout",
     "output_type": "stream",
     "text": [
      "The autoreload extension is already loaded. To reload it, use:\n",
      "  %reload_ext autoreload\n"
     ]
    }
   ],
   "execution_count": 5
  },
  {
   "metadata": {
    "ExecuteTime": {
     "end_time": "2024-04-21T19:36:47.992932Z",
     "start_time": "2024-04-21T19:36:47.974284Z"
    }
   },
   "cell_type": "code",
   "source": [
    "import torch\n",
    "import os.path\n",
    "from spacy.lang.en import English\n",
    "import torch.nn.functional as F\n",
    "from src.models.nliclassifier import NLIClassifier\n",
    "from src.dataset.dataloaders import get_embeddings_for_data\n",
    "from src.dataset.snli_dataset import str_to_idxs, label_map"
   ],
   "id": "b3b703e8d7cd040",
   "outputs": [],
   "execution_count": 6
  },
  {
   "cell_type": "code",
   "id": "initial_id",
   "metadata": {
    "collapsed": true,
    "ExecuteTime": {
     "end_time": "2024-04-21T19:36:54.393838Z",
     "start_time": "2024-04-21T19:36:47.993926Z"
    }
   },
   "source": [
    "# Make sure to enter the parent dir of the embedding vocab+vector file used for training\n",
    "emb_vocab, emb_vecs = get_embeddings_for_data(\n",
    "    dataset_path=os.path.join(\"..\", \"data\", \"processed\")\n",
    ")"
   ],
   "outputs": [],
   "execution_count": 7
  },
  {
   "metadata": {
    "ExecuteTime": {
     "end_time": "2024-04-21T19:36:54.528595Z",
     "start_time": "2024-04-21T19:36:54.394949Z"
    }
   },
   "cell_type": "code",
   "source": [
    "# Load the model along with the embeddings\n",
    "model = (\n",
    "    NLIClassifier.load_from_checkpoint(\n",
    "        os.path.join(\n",
    "            \"..\",\n",
    "            \"checkpoint\",\n",
    "            \"real_blstmpme_train\",\n",
    "            \"epoch=14-step=32190-val_acc=0.86.ckpt\",\n",
    "        ),\n",
    "        strict=False,\n",
    "        embedding_mat=emb_vecs,\n",
    "    )\n",
    "    .cpu()\n",
    "    .eval()\n",
    ")"
   ],
   "id": "b7f11ded35cbbfca",
   "outputs": [
    {
     "name": "stderr",
     "output_type": "stream",
     "text": [
      "/Users/patrik/miniforge3/envs/atcs/lib/python3.10/site-packages/lightning/pytorch/core/saving.py:184: Found keys that are in the model state dict but not in the checkpoint: ['embedding.weight']\n"
     ]
    }
   ],
   "execution_count": 8
  },
  {
   "metadata": {
    "ExecuteTime": {
     "end_time": "2024-04-21T19:36:54.600131Z",
     "start_time": "2024-04-21T19:36:54.529820Z"
    }
   },
   "cell_type": "code",
   "source": "tokenizer = English().tokenizer",
   "id": "8ac9279ade079438",
   "outputs": [],
   "execution_count": 9
  },
  {
   "metadata": {
    "ExecuteTime": {
     "end_time": "2024-04-21T19:36:54.619052Z",
     "start_time": "2024-04-21T19:36:54.600937Z"
    }
   },
   "cell_type": "code",
   "source": [
    "def predict_and_print(sent_1, sent_2):\n",
    "    raw_inputs = str_to_idxs(sent_1, sent_2, tokenizer, emb_vocab)\n",
    "    out = model(*raw_inputs)\n",
    "    probs = F.softmax(out, dim=-1)\n",
    "    label = torch.argmax(probs, dim=1).unsqueeze(0).detach().item()\n",
    "    print(\n",
    "        f\"\"\"\n",
    "    Premise: \"{sent_1}\"\n",
    "    Hypothesis: \"{sent_2}\"\n",
    "    Model judgement: \"{label_map[label]}\"\n",
    "    \"\"\"\n",
    "    )"
   ],
   "id": "3c84f50d804ebecb",
   "outputs": [],
   "execution_count": 10
  },
  {
   "metadata": {
    "ExecuteTime": {
     "end_time": "2024-04-21T19:36:54.664709Z",
     "start_time": "2024-04-21T19:36:54.619975Z"
    }
   },
   "cell_type": "code",
   "source": "predict_and_print(\"Two men sitting in the sun\", \"Nobody is sitting in the shade\")",
   "id": "a56f478cc4580582",
   "outputs": [
    {
     "name": "stdout",
     "output_type": "stream",
     "text": [
      "\n",
      "    Premise: \"Two men sitting in the sun\"\n",
      "    Hypothesis: \"Nobody is sitting in the shade\"\n",
      "    Model judgement: \"contradiction\"\n",
      "    \n"
     ]
    }
   ],
   "execution_count": 11
  },
  {
   "metadata": {
    "ExecuteTime": {
     "end_time": "2024-04-21T19:36:54.689843Z",
     "start_time": "2024-04-21T19:36:54.665347Z"
    }
   },
   "cell_type": "code",
   "source": "predict_and_print(\"A man is walking a dog\", \"No cat is outside\")",
   "id": "ec314d988a41805a",
   "outputs": [
    {
     "name": "stdout",
     "output_type": "stream",
     "text": [
      "\n",
      "    Premise: \"A man is walking a dog\"\n",
      "    Hypothesis: \"No cat is outside\"\n",
      "    Model judgement: \"contradiction\"\n",
      "    \n"
     ]
    }
   ],
   "execution_count": 12
  },
  {
   "metadata": {
    "ExecuteTime": {
     "end_time": "2024-04-21T19:36:54.693244Z",
     "start_time": "2024-04-21T19:36:54.691767Z"
    }
   },
   "cell_type": "code",
   "source": "",
   "id": "987cd2953ae0a421",
   "outputs": [],
   "execution_count": 12
  }
 ],
 "metadata": {
  "kernelspec": {
   "display_name": "Python 3",
   "language": "python",
   "name": "python3"
  },
  "language_info": {
   "codemirror_mode": {
    "name": "ipython",
    "version": 2
   },
   "file_extension": ".py",
   "mimetype": "text/x-python",
   "name": "python",
   "nbconvert_exporter": "python",
   "pygments_lexer": "ipython2",
   "version": "2.7.6"
  }
 },
 "nbformat": 4,
 "nbformat_minor": 5
}
