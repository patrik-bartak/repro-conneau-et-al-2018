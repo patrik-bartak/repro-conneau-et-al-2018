{
 "cells": [
  {
   "metadata": {
    "ExecuteTime": {
     "end_time": "2024-04-18T18:47:39.934368Z",
     "start_time": "2024-04-18T18:47:39.931138Z"
    }
   },
   "cell_type": "code",
   "source": [
    "import torch\n",
    "import os.path\n",
    "from spacy.lang.en import English\n",
    "import torch.nn.functional as F\n",
    "from src.models.nliclassifier import NLIClassifier\n",
    "from src.dataset.dataloaders import get_embeddings_for_data"
   ],
   "id": "b3b703e8d7cd040",
   "outputs": [],
   "execution_count": 72
  },
  {
   "cell_type": "code",
   "id": "initial_id",
   "metadata": {
    "collapsed": true,
    "ExecuteTime": {
     "end_time": "2024-04-18T18:47:44.322114Z",
     "start_time": "2024-04-18T18:47:39.936347Z"
    }
   },
   "source": [
    "# Make sure to enter the parent dir of the embedding vocab+vector file used for training\n",
    "emb_vocab, emb_vecs = get_embeddings_for_data(\n",
    "    dataset_path=os.path.join(\"..\", \"data\", \"processed\")\n",
    ")"
   ],
   "outputs": [],
   "execution_count": 73
  },
  {
   "metadata": {
    "ExecuteTime": {
     "end_time": "2024-04-18T18:47:44.370816Z",
     "start_time": "2024-04-18T18:47:44.323211Z"
    }
   },
   "cell_type": "code",
   "source": [
    "# Load the model along with the embeddings\n",
    "model = (\n",
    "    NLIClassifier.load_from_checkpoint(\n",
    "        os.path.join(\n",
    "            \"..\",\n",
    "            \"checkpoint\",\n",
    "            \"verify_me_train\",\n",
    "            \"epoch=02-step=25752-val_loss=0.78.ckpt\",\n",
    "        ),\n",
    "        strict=False,\n",
    "        embedding_mat=emb_vecs,\n",
    "    )\n",
    "    .cpu()\n",
    "    .eval()\n",
    ")"
   ],
   "id": "b7f11ded35cbbfca",
   "outputs": [],
   "execution_count": 74
  },
  {
   "metadata": {
    "ExecuteTime": {
     "end_time": "2024-04-18T18:47:44.428609Z",
     "start_time": "2024-04-18T18:47:44.371462Z"
    }
   },
   "cell_type": "code",
   "source": [
    "tokenizer = English().tokenizer\n",
    "\n",
    "\n",
    "def process_input(sent_1, sent_2):\n",
    "    sent_tokens = [\n",
    "        [token.text for token in tokenizer(sent.lower())] for sent in [sent_1, sent_2]\n",
    "    ]\n",
    "    indices = [emb_vocab(sent_tok) for sent_tok in sent_tokens]\n",
    "    sents = [torch.tensor([idxs], dtype=torch.long) for idxs in indices]\n",
    "    return sents"
   ],
   "id": "8ac9279ade079438",
   "outputs": [],
   "execution_count": 75
  },
  {
   "metadata": {
    "ExecuteTime": {
     "end_time": "2024-04-18T18:47:44.431755Z",
     "start_time": "2024-04-18T18:47:44.429819Z"
    }
   },
   "cell_type": "code",
   "source": [
    "sent_1 = \"An apple and an orange on a table\"\n",
    "sent_2 = \"There are fruits present on the table\"\n",
    "raw_inputs = process_input(sent_1, sent_2)"
   ],
   "id": "a56f478cc4580582",
   "outputs": [],
   "execution_count": 76
  },
  {
   "metadata": {
    "ExecuteTime": {
     "end_time": "2024-04-18T18:47:44.433964Z",
     "start_time": "2024-04-18T18:47:44.432424Z"
    }
   },
   "cell_type": "code",
   "source": [
    "label_map = {\n",
    "    0: \"entailment\",\n",
    "    1: \"neutral\",\n",
    "    2: \"contradiction\",\n",
    "}"
   ],
   "id": "6555a2d84b711401",
   "outputs": [],
   "execution_count": 77
  },
  {
   "metadata": {
    "ExecuteTime": {
     "end_time": "2024-04-18T18:47:44.437208Z",
     "start_time": "2024-04-18T18:47:44.434574Z"
    }
   },
   "cell_type": "code",
   "source": [
    "out = model(*raw_inputs, 2, 2)\n",
    "probs = F.softmax(out, dim=-1)\n",
    "label = torch.argmax(probs, dim=1).unsqueeze(0).detach().item()"
   ],
   "id": "97306071d190d17b",
   "outputs": [],
   "execution_count": 78
  },
  {
   "metadata": {
    "ExecuteTime": {
     "end_time": "2024-04-18T18:47:44.439768Z",
     "start_time": "2024-04-18T18:47:44.437913Z"
    }
   },
   "cell_type": "code",
   "source": [
    "print(\n",
    "    f\"\"\"\n",
    "Sentence one: \"{sent_1}\"\n",
    "Sentence two: \"{sent_2}\"\n",
    "Model judgement: \"{label_map[label]}\"\n",
    "\"\"\"\n",
    ")"
   ],
   "id": "94e27f99cf8796ba",
   "outputs": [
    {
     "name": "stdout",
     "output_type": "stream",
     "text": [
      "\n",
      "Sentence one: \"An apple and an orange on a table\"\n",
      "Sentence two: \"There are fruits present on the table\"\n",
      "Model judgement: \"contradiction\"\n",
      "\n"
     ]
    }
   ],
   "execution_count": 79
  },
  {
   "metadata": {
    "ExecuteTime": {
     "end_time": "2024-04-18T18:47:44.442123Z",
     "start_time": "2024-04-18T18:47:44.440335Z"
    }
   },
   "cell_type": "code",
   "source": "",
   "id": "f3b51a02117821aa",
   "outputs": [],
   "execution_count": 79
  }
 ],
 "metadata": {
  "kernelspec": {
   "display_name": "Python 3",
   "language": "python",
   "name": "python3"
  },
  "language_info": {
   "codemirror_mode": {
    "name": "ipython",
    "version": 2
   },
   "file_extension": ".py",
   "mimetype": "text/x-python",
   "name": "python",
   "nbconvert_exporter": "python",
   "pygments_lexer": "ipython2",
   "version": "2.7.6"
  }
 },
 "nbformat": 4,
 "nbformat_minor": 5
}
